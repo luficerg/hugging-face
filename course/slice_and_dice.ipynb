{
  "cells": [
    {
      "cell_type": "markdown",
      "metadata": {
        "id": "view-in-github",
        "colab_type": "text"
      },
      "source": [
        "<a href=\"https://colab.research.google.com/github/luficerg/hugging-face/blob/master/course/slice_and_dice.ipynb\" target=\"_parent\"><img src=\"https://colab.research.google.com/assets/colab-badge.svg\" alt=\"Open In Colab\"/></a>"
      ]
    },
    {
      "cell_type": "markdown",
      "metadata": {
        "id": "TSgWUhtuKC3Q"
      },
      "source": [
        "This notebook regroups the code sample of the video below, which is a part of the [Hugging Face course](https://huggingface.co/course)."
      ]
    },
    {
      "cell_type": "code",
      "execution_count": null,
      "metadata": {
        "cellView": "form",
        "id": "ck6xG4kGKC3X",
        "outputId": "b45d4423-e17b-4856-f6ac-95ae3e63f0ce"
      },
      "outputs": [
        {
          "data": {
            "text/html": [
              "<iframe width=\"560\" height=\"315\" src=\"https://www.youtube.com/embed/tqfSFcPMgOI?rel=0&amp;controls=0&amp;showinfo=0\" frameborder=\"0\" allowfullscreen></iframe>"
            ],
            "text/plain": [
              "<IPython.core.display.HTML object>"
            ]
          },
          "execution_count": null,
          "metadata": {},
          "output_type": "execute_result"
        }
      ],
      "source": [
        "#@title\n",
        "from IPython.display import HTML\n",
        "\n",
        "HTML('<iframe width=\"560\" height=\"315\" src=\"https://www.youtube.com/embed/tqfSFcPMgOI?rel=0&amp;controls=0&amp;showinfo=0\" frameborder=\"0\" allowfullscreen></iframe>')"
      ]
    },
    {
      "cell_type": "markdown",
      "metadata": {
        "id": "S_uSMWc3KC3d"
      },
      "source": [
        "Install the Transformers and Datasets libraries to run this notebook."
      ]
    },
    {
      "cell_type": "code",
      "execution_count": null,
      "metadata": {
        "id": "VwLWMFDvKC3f"
      },
      "outputs": [],
      "source": [
        "! pip install datasets transformers[sentencepiece]"
      ]
    },
    {
      "cell_type": "code",
      "execution_count": null,
      "metadata": {
        "id": "pGKNjYuEKC3g"
      },
      "outputs": [],
      "source": [
        "from datasets import load_dataset\n",
        "\n",
        "squad = load_dataset(\"squad\", split=\"train\")\n",
        "squad[0]"
      ]
    },
    {
      "cell_type": "code",
      "execution_count": null,
      "metadata": {
        "id": "IQEbsRvFKC3h"
      },
      "outputs": [],
      "source": [
        "squad_shuffled = squad.shuffle(seed=666)\n",
        "squad_shuffled[0]"
      ]
    },
    {
      "cell_type": "code",
      "execution_count": null,
      "metadata": {
        "id": "IPK4l9ONKC3i"
      },
      "outputs": [],
      "source": [
        "dataset = squad.train_test_split(test_size=0.1)\n",
        "dataset"
      ]
    },
    {
      "cell_type": "code",
      "execution_count": null,
      "metadata": {
        "id": "TDFBv5meKC3j"
      },
      "outputs": [],
      "source": [
        "indices = [0, 10, 20, 40, 80]\n",
        "examples = squad.select(indices)\n",
        "examples"
      ]
    },
    {
      "cell_type": "code",
      "execution_count": null,
      "metadata": {
        "id": "XzzPElHpKC3k"
      },
      "outputs": [],
      "source": [
        "sample = squad.shuffle().select(range(5))\n",
        "sample"
      ]
    },
    {
      "cell_type": "code",
      "execution_count": null,
      "metadata": {
        "id": "c5FQ8I-iKC3l"
      },
      "outputs": [],
      "source": [
        "squad_filtered = squad.filter(lambda x : x[\"title\"].startswith(\"L\"))\n",
        "squad_filtered[0]"
      ]
    },
    {
      "cell_type": "code",
      "execution_count": null,
      "metadata": {
        "id": "t6NYnH44KC3m"
      },
      "outputs": [],
      "source": [
        "squad.rename_column(\"context\", \"passages\")"
      ]
    },
    {
      "cell_type": "code",
      "execution_count": null,
      "metadata": {
        "id": "jQRNMM31KC3m"
      },
      "outputs": [],
      "source": [
        "squad.remove_columns([\"id\", \"title\"])"
      ]
    },
    {
      "cell_type": "code",
      "execution_count": null,
      "metadata": {
        "id": "CZaN8qIbKC3o"
      },
      "outputs": [],
      "source": [
        "squad"
      ]
    },
    {
      "cell_type": "code",
      "execution_count": null,
      "metadata": {
        "id": "W5IQI2DPKC3o"
      },
      "outputs": [],
      "source": [
        "squad.flatten()"
      ]
    },
    {
      "cell_type": "code",
      "execution_count": null,
      "metadata": {
        "id": "PORuUZ-wKC3o"
      },
      "outputs": [],
      "source": [
        "def lowercase_title(example):\n",
        "    return {\"title\": example[\"title\"].lower()}\n",
        "\n",
        "squad_lowercase = squad.map(lowercase_title)\n",
        "# Peek at random sample\n",
        "squad_lowercase.shuffle(seed=42)[\"title\"][:5]"
      ]
    },
    {
      "cell_type": "code",
      "execution_count": null,
      "metadata": {
        "id": "xAEaNNnSKC3p"
      },
      "outputs": [],
      "source": [
        "from transformers import AutoTokenizer\n",
        "\n",
        "tokenizer = AutoTokenizer.from_pretrained(\"distilbert-base-uncased\")\n",
        "\n",
        "def tokenize_title(example):\n",
        "    return tokenizer(example[\"title\"])\n",
        "\n",
        "squad.map(tokenize_title, batched=True, batch_size=500)"
      ]
    },
    {
      "cell_type": "code",
      "execution_count": null,
      "metadata": {
        "id": "sz7ntqxEKC3p"
      },
      "outputs": [],
      "source": []
    }
  ],
  "metadata": {
    "colab": {
      "name": "Slide and dice a dataset 🔪",
      "provenance": [],
      "include_colab_link": true
    }
  },
  "nbformat": 4,
  "nbformat_minor": 0
}